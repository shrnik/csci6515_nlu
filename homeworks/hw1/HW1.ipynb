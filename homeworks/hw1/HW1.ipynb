{
  "cells": [
    {
      "cell_type": "code",
      "execution_count": 1,
      "metadata": {
        "colab": {
          "base_uri": "https://localhost:8080/"
        },
        "id": "Htm9-hOXybi3",
        "outputId": "466be424-9479-44d6-c171-3fa75603c78a"
      },
      "outputs": [
        {
          "name": "stderr",
          "output_type": "stream",
          "text": [
            "[nltk_data] Downloading package punkt_tab to\n",
            "[nltk_data]     /Users/shrenikborad/nltk_data...\n",
            "[nltk_data]   Package punkt_tab is already up-to-date!\n",
            "[nltk_data] Downloading package wordnet to\n",
            "[nltk_data]     /Users/shrenikborad/nltk_data...\n",
            "[nltk_data]   Package wordnet is already up-to-date!\n"
          ]
        }
      ],
      "source": [
        "import pandas as pd\n",
        "import numpy as np\n",
        "from sklearn.model_selection import train_test_split\n",
        "from sklearn.naive_bayes import MultinomialNB\n",
        "from sklearn.metrics import precision_recall_fscore_support, accuracy_score\n",
        "from sklearn.linear_model import LogisticRegression\n",
        "import re\n",
        "import nltk\n",
        "from nltk.tokenize import word_tokenize\n",
        "from nltk.stem import WordNetLemmatizer\n",
        "from sklearn.feature_extraction.text import TfidfVectorizer\n",
        "\n",
        "import ssl\n",
        "try:\n",
        "    _create_unverified_https_context = ssl._create_unverified_context\n",
        "except AttributeError:\n",
        "    pass\n",
        "else:\n",
        "    ssl._create_default_https_context = _create_unverified_https_context\n",
        "\n",
        "nltk.download('punkt_tab')\n",
        "nltk.download('wordnet')\n",
        "\n",
        "lemmatizer = WordNetLemmatizer()\n",
        "\n"
      ]
    },
    {
      "cell_type": "code",
      "execution_count": 2,
      "metadata": {
        "colab": {
          "base_uri": "https://localhost:8080/",
          "height": 175
        },
        "id": "JoTmFIxwybi6",
        "outputId": "084b013f-a673-4c01-fda2-3966c2350ae8"
      },
      "outputs": [
        {
          "data": {
            "text/html": [
              "<div>\n",
              "<style scoped>\n",
              "    .dataframe tbody tr th:only-of-type {\n",
              "        vertical-align: middle;\n",
              "    }\n",
              "\n",
              "    .dataframe tbody tr th {\n",
              "        vertical-align: top;\n",
              "    }\n",
              "\n",
              "    .dataframe thead th {\n",
              "        text-align: right;\n",
              "    }\n",
              "</style>\n",
              "<table border=\"1\" class=\"dataframe\">\n",
              "  <thead>\n",
              "    <tr style=\"text-align: right;\">\n",
              "      <th></th>\n",
              "      <th>textID</th>\n",
              "      <th>text</th>\n",
              "      <th>sentiment</th>\n",
              "    </tr>\n",
              "  </thead>\n",
              "  <tbody>\n",
              "    <tr>\n",
              "      <th>count</th>\n",
              "      <td>5000</td>\n",
              "      <td>5000</td>\n",
              "      <td>5000</td>\n",
              "    </tr>\n",
              "    <tr>\n",
              "      <th>unique</th>\n",
              "      <td>5000</td>\n",
              "      <td>4999</td>\n",
              "      <td>3</td>\n",
              "    </tr>\n",
              "    <tr>\n",
              "      <th>top</th>\n",
              "      <td>375b64de34</td>\n",
              "      <td>may the 4th be with you</td>\n",
              "      <td>neutral</td>\n",
              "    </tr>\n",
              "    <tr>\n",
              "      <th>freq</th>\n",
              "      <td>1</td>\n",
              "      <td>2</td>\n",
              "      <td>2023</td>\n",
              "    </tr>\n",
              "  </tbody>\n",
              "</table>\n",
              "</div>"
            ],
            "text/plain": [
              "            textID                     text sentiment\n",
              "count         5000                     5000      5000\n",
              "unique        5000                     4999         3\n",
              "top     375b64de34  may the 4th be with you   neutral\n",
              "freq             1                        2      2023"
            ]
          },
          "execution_count": 2,
          "metadata": {},
          "output_type": "execute_result"
        }
      ],
      "source": [
        "#load data\n",
        "data = pd.read_csv('https://drive.google.com/uc?export=download&id=1gAWNRV7ejvwA_aLBdlB4weWFOiHpXVzx')\n",
        "data.describe()"
      ]
    },
    {
      "cell_type": "code",
      "execution_count": 3,
      "metadata": {
        "colab": {
          "base_uri": "https://localhost:8080/",
          "height": 241
        },
        "id": "Hu2RUW9-ybi7",
        "outputId": "4c25220b-09dc-498b-b764-c2e8abc68e4b"
      },
      "outputs": [
        {
          "data": {
            "text/plain": [
              "0                  I`d have responded, if I were going\n",
              "1        Sooo SAD I will miss you here in San Diego!!!\n",
              "2                            my boss is bullying me...\n",
              "3                       what interview! leave me alone\n",
              "4     Sons of ****, why couldn`t they put them on t...\n",
              "Name: text, dtype: object"
            ]
          },
          "execution_count": 3,
          "metadata": {},
          "output_type": "execute_result"
        }
      ],
      "source": [
        "#Load the data:\n",
        "raw_tweets = data['text']\n",
        "sentiments = data['sentiment']\n",
        "\n",
        "sentiment_mapping = {'positive': 1, 'neutral': 0, 'negative': -1}\n",
        "labels = sentiments.map(sentiment_mapping)\n",
        "raw_tweets.head()"
      ]
    },
    {
      "cell_type": "code",
      "execution_count": 4,
      "metadata": {
        "colab": {
          "base_uri": "https://localhost:8080/",
          "height": 241
        },
        "id": "dwCFn2zlybi7",
        "outputId": "863d46e5-49f5-4ed0-9e46-1978d8890d9a"
      },
      "outputs": [
        {
          "data": {
            "text/plain": [
              "0          [I`d, have, responded,, if, I, were, going]\n",
              "1    [Sooo, SAD, I, will, miss, you, here, in, San,...\n",
              "2                      [my, boss, is, bullying, me...]\n",
              "3                 [what, interview!, leave, me, alone]\n",
              "4    [Sons, of, ****,, why, couldn`t, they, put, th...\n",
              "Name: text, dtype: object"
            ]
          },
          "execution_count": 4,
          "metadata": {},
          "output_type": "execute_result"
        }
      ],
      "source": [
        "#Basic preprocessing\n",
        "#split each tweet into words\n",
        "basic_preproc_tweets = raw_tweets.str.strip().str.split(\" \")\n",
        "# basic_preproc_tweets.replace(\"\", pd.NA, inplace=True)\n",
        "basic_preproc_tweets.head()\n"
      ]
    },
    {
      "cell_type": "code",
      "execution_count": 5,
      "metadata": {
        "id": "cACukaHsybi8"
      },
      "outputs": [],
      "source": [
        "basic_preproc_bow = basic_preproc_tweets.apply(lambda x: pd.Series(x).value_counts()).fillna(0)"
      ]
    },
    {
      "cell_type": "code",
      "execution_count": 6,
      "metadata": {
        "colab": {
          "base_uri": "https://localhost:8080/"
        },
        "id": "ZWd93Jr8ybi8",
        "outputId": "5dcfdbc5-0d0c-43c1-b5a7-2fb80b0fdf9e"
      },
      "outputs": [
        {
          "data": {
            "text/plain": [
              "(5000, 15122)"
            ]
          },
          "execution_count": 6,
          "metadata": {},
          "output_type": "execute_result"
        }
      ],
      "source": [
        "basic_preproc_bow.shape"
      ]
    },
    {
      "cell_type": "code",
      "execution_count": 7,
      "metadata": {
        "colab": {
          "base_uri": "https://localhost:8080/"
        },
        "id": "ON0JKxj8ybi8",
        "outputId": "0c226794-23ee-40d8-9823-6e7c43f27369"
      },
      "outputs": [
        {
          "name": "stdout",
          "output_type": "stream",
          "text": [
            "0.0\n",
            "300th\n"
          ]
        }
      ],
      "source": [
        "print(basic_preproc_bow.iloc[1460, 1460])\n",
        "print(basic_preproc_bow.columns[1460])"
      ]
    },
    {
      "cell_type": "code",
      "execution_count": 8,
      "metadata": {
        "id": "4radVZ9Zybi8"
      },
      "outputs": [],
      "source": [
        "Tweets_train, Tweets_test, Labels_train, Labels_test = train_test_split(basic_preproc_bow, labels, test_size=0.2, shuffle=False)\n",
        "\n"
      ]
    },
    {
      "cell_type": "code",
      "execution_count": 9,
      "metadata": {
        "colab": {
          "base_uri": "https://localhost:8080/"
        },
        "id": "NAAk5w8lybi9",
        "outputId": "51ae4f84-7c07-4b17-8853-2f9d04546cea"
      },
      "outputs": [
        {
          "name": "stdout",
          "output_type": "stream",
          "text": [
            "Accuracy of NB:  0.577\n"
          ]
        }
      ],
      "source": [
        "multi_nb = MultinomialNB(alpha=1.0)\n",
        "model = multi_nb.fit(Tweets_train, Labels_train)\n",
        "pred_labels = model.predict(Tweets_test)\n",
        "accuracy = accuracy_score(Labels_test, pred_labels)\n",
        "print(\"Accuracy of NB: \", accuracy)"
      ]
    },
    {
      "cell_type": "code",
      "execution_count": 10,
      "metadata": {
        "colab": {
          "base_uri": "https://localhost:8080/"
        },
        "id": "K3K5C1i4ybi9",
        "outputId": "0632e4a9-b793-4615-83d0-6eb5110d8344"
      },
      "outputs": [
        {
          "name": "stdout",
          "output_type": "stream",
          "text": [
            "Accuracy of most common:  0.427\n"
          ]
        }
      ],
      "source": [
        "labels_pred_most_common = np.array([Labels_train.value_counts().idxmax()] * Labels_test.count())\n",
        "accuracy_most_common = accuracy_score(Labels_test, labels_pred_most_common)\n",
        "print(\"Accuracy of most common: \", accuracy_most_common)"
      ]
    },
    {
      "cell_type": "code",
      "execution_count": 11,
      "metadata": {
        "colab": {
          "base_uri": "https://localhost:8080/"
        },
        "id": "earJxYC7ybi9",
        "outputId": "fadfe71d-58f2-4a98-924a-956135919e3b"
      },
      "outputs": [
        {
          "name": "stdout",
          "output_type": "stream",
          "text": [
            "Accuracy of Logistic Regression:  0.587\n"
          ]
        }
      ],
      "source": [
        "log_reg = LogisticRegression(max_iter=500)\n",
        "model = log_reg.fit(Tweets_train, Labels_train)\n",
        "pred_labels = model.predict(Tweets_test)\n",
        "accuracy = accuracy_score(Labels_test, pred_labels)\n",
        "print(\"Accuracy of Logistic Regression: \", accuracy)"
      ]
    },
    {
      "cell_type": "code",
      "execution_count": 12,
      "metadata": {
        "colab": {
          "base_uri": "https://localhost:8080/"
        },
        "id": "fEctH9Cnybi-",
        "outputId": "43780a6b-1efd-49c7-b080-ac64022b8ffd"
      },
      "outputs": [
        {
          "name": "stdout",
          "output_type": "stream",
          "text": [
            "(3, 15122)\n"
          ]
        }
      ],
      "source": [
        "print(model.coef_.shape)"
      ]
    },
    {
      "cell_type": "code",
      "execution_count": 13,
      "metadata": {
        "colab": {
          "base_uri": "https://localhost:8080/"
        },
        "id": "FO869wZUybi-",
        "outputId": "93bc0dc6-ced5-4399-e1fd-1edb304dc07f"
      },
      "outputs": [
        {
          "name": "stdout",
          "output_type": "stream",
          "text": [
            "0                  I`d have responded, if I were going\n",
            "1        Sooo SAD I will miss you here in San Diego!!!\n",
            "2                            my boss is bullying me...\n",
            "3                       what interview! leave me alone\n",
            "4     Sons of ****, why couldn`t they put them on t...\n",
            "Name: text, dtype: object\n"
          ]
        },
        {
          "data": {
            "text/plain": [
              "0                   id have responded, if i were going\n",
              "1           sooo sad i will miss you here in san diego\n",
              "2                             my bos is bullying me...\n",
              "3                        what interview leave me alone\n",
              "4     son of ****, why couldnt they put them on the...\n",
              "Name: text, dtype: object"
            ]
          },
          "execution_count": 13,
          "metadata": {},
          "output_type": "execute_result"
        }
      ],
      "source": [
        "def preprocess_tweet(tweet):\n",
        "    tweet = re.sub(r'http\\S+|www\\S+|https\\S+', '', tweet, flags=re.MULTILINE)\n",
        "    tweet = re.sub(r'#\\w+', '', tweet)\n",
        "    tweet = re.sub(r'`', '', tweet)\n",
        "    tweet = re.sub(r'!', '', tweet)\n",
        "    tweet = tweet.lower()\n",
        "    tokens = tweet.split(\" \")\n",
        "\n",
        "    tokens = [lemmatizer.lemmatize(word) for word in tokens]\n",
        "    tweet = ' '.join(tokens)\n",
        "    return tweet\n",
        "\n",
        "adv_preproc_tweets = raw_tweets.copy().apply(preprocess_tweet)\n",
        "print(raw_tweets.head())\n",
        "adv_preproc_tweets.head()\n"
      ]
    },
    {
      "cell_type": "code",
      "execution_count": 14,
      "metadata": {
        "colab": {
          "base_uri": "https://localhost:8080/"
        },
        "id": "2Ud0KXt4ybi-",
        "outputId": "ad5facdc-9589-4705-b42b-908a1ee439c0"
      },
      "outputs": [
        {
          "name": "stdout",
          "output_type": "stream",
          "text": [
            "Accuracy of Logistic Regression with TF-IDF:  0.618\n"
          ]
        }
      ],
      "source": [
        "New_Tweets_train, New_Tweets_test, New_Labels_train, New_Labels_test = train_test_split(adv_preproc_tweets, labels, test_size=0.2, shuffle=False)\n",
        "\n",
        "vectorizer = TfidfVectorizer()\n",
        "Tfidf_Tweets_train = vectorizer.fit_transform(New_Tweets_train)\n",
        "Tfidf_Tweets_test = vectorizer.transform(New_Tweets_test)\n",
        "\n",
        "# Train a logistic regression model\n",
        "model_tfidf = LogisticRegression()\n",
        "model_tfidf.fit(Tfidf_Tweets_train, New_Labels_train)\n",
        "\n",
        "# Make predictions\n",
        "labels_tfidf_pred = model_tfidf.predict(Tfidf_Tweets_test)\n",
        "accuracy_tfidf = accuracy_score(New_Labels_test, labels_tfidf_pred)\n",
        "print(\"Accuracy of Logistic Regression with TF-IDF: \", accuracy_tfidf)"
      ]
    },
    {
      "cell_type": "code",
      "execution_count": 15,
      "metadata": {
        "id": "eeaZHwav3doS"
      },
      "outputs": [
        {
          "name": "stdout",
          "output_type": "stream",
          "text": [
            "Actual Label\n",
            "-1    141\n",
            " 0    127\n",
            " 1    114\n",
            "Name: count, dtype: int64\n"
          ]
        }
      ],
      "source": [
        "wrongly_classified_indices = np.where(labels_tfidf_pred != New_Labels_test)[0]\n",
        "wrongly_classified_tweets = New_Tweets_test.iloc[wrongly_classified_indices]\n",
        "wrongly_classified_pred_labels = labels_tfidf_pred[wrongly_classified_indices]\n",
        "wrongly_classified_actual_labels = New_Labels_test.iloc[wrongly_classified_indices]\n",
        "wrongly_classified_df = pd.DataFrame({\n",
        "    'Cleaned Tweet': wrongly_classified_tweets,\n",
        "    'Original Tweet': raw_tweets.iloc[wrongly_classified_indices + 4000].values,\n",
        "    'Predicted Label': wrongly_classified_pred_labels,\n",
        "    'Actual Label': wrongly_classified_actual_labels\n",
        "})\n",
        "\n",
        "\n",
        "wrongly_classified_df.to_csv('wrongly_classified_tweets.csv', index=False)\n",
        "print(wrongly_classified_df['Actual Label'].value_counts())"
      ]
    },
    {
      "cell_type": "code",
      "execution_count": 16,
      "metadata": {},
      "outputs": [
        {
          "name": "stdout",
          "output_type": "stream",
          "text": [
            "Tweet Length Bin\n",
            "6-10     89\n",
            "11-15    87\n",
            "21-25    75\n",
            "16-20    69\n",
            "0-5      38\n",
            "26-30    24\n",
            "31-35     0\n",
            "36-40     0\n",
            "41-45     0\n",
            "46-50     0\n",
            "Name: count, dtype: int64\n"
          ]
        }
      ],
      "source": [
        "def tweet_length(tweet):\n",
        "    return len(tweet.split())\n",
        "\n",
        "wrongly_classified_df['Tweet Length'] = wrongly_classified_df['Cleaned Tweet'].apply(tweet_length)\n",
        "# make bins\n",
        "bins = [0, 5, 10, 15, 20, 25, 30, 35, 40, 45, 50]\n",
        "labels = ['0-5', '6-10', '11-15', '16-20', '21-25', '26-30', '31-35', '36-40', '41-45', '46-50']\n",
        "wrongly_classified_df['Tweet Length Bin'] = pd.cut(wrongly_classified_df['Tweet Length'], bins=bins, labels=labels)\n",
        "print(wrongly_classified_df['Tweet Length Bin'].value_counts())"
      ]
    }
  ],
  "metadata": {
    "colab": {
      "provenance": []
    },
    "kernelspec": {
      "display_name": ".py_env",
      "language": "python",
      "name": "python3"
    },
    "language_info": {
      "codemirror_mode": {
        "name": "ipython",
        "version": 3
      },
      "file_extension": ".py",
      "mimetype": "text/x-python",
      "name": "python",
      "nbconvert_exporter": "python",
      "pygments_lexer": "ipython3",
      "version": "3.10.1"
    }
  },
  "nbformat": 4,
  "nbformat_minor": 0
}
